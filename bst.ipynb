{
 "cells": [
  {
   "cell_type": "code",
   "execution_count": 21,
   "metadata": {},
   "outputs": [],
   "source": [
    "class tree_Node:\n",
    "    def __init__(self,value):\n",
    "        self.value= value\n",
    "        self.left= None\n",
    "        self.right= None\n",
    "        "
   ]
  },
  {
   "cell_type": "code",
   "execution_count": 33,
   "metadata": {},
   "outputs": [],
   "source": [
    "def insert_recr(root,value):\n",
    "    if root== None:\n",
    "       node= tree_Node(value)\n",
    "       return node\n",
    "    if value< root.value:\n",
    "        root.left= insert_recr(root.left, value)\n",
    "    if value>root.value:\n",
    "        root.right= insert_recr(root.right, value)\n",
    "    else:\n",
    "        print('Duplicate') \n",
    "    return root  \n",
    "\n",
    "def in_traverse(root):\n",
    "    if root:\n",
    "        in_traverse(root.left)\n",
    "        print(root.value)\n",
    "        in_traverse(root.right)\n",
    "\n",
    "def post_traverse(root):\n",
    "    if root:\n",
    "        post_traverse(root.left)\n",
    "        post_traverse(root.right)        \n",
    "        print(root.value)\n",
    "\n",
    "def pre_traverse(root):\n",
    "    if root:\n",
    "        print(root.value)  \n",
    "        pre_traverse(root.left)\n",
    "        pre_traverse(root.right)  \n",
    "\n",
    "def in_order_successor(node):\n",
    "    while node.left!= None:\n",
    "        node= node.left\n",
    "    return node\n",
    "\n",
    "def delete(root, value):\n",
    "    if root== None:\n",
    "        print('root Not found')\n",
    "        return\n",
    "    if value< root.value:\n",
    "        root.left= delete(root.left, value)\n",
    "    if value> root.value:\n",
    "        root.right= delete(root.right, value)\n",
    "    else:\n",
    "        if root.left== None:\n",
    "            return root.right\n",
    "        if root.left==None:\n",
    "            return root.left    \n",
    "        temp= in_order_successor(root.right)\n",
    "        root.value= temp.value\n",
    "        root.right= delete(root.right,value)\n",
    "    return root                                      \n",
    "              "
   ]
  },
  {
   "cell_type": "code",
   "execution_count": 27,
   "metadata": {},
   "outputs": [
    {
     "name": "stdout",
     "output_type": "stream",
     "text": [
      "Duplicate\n",
      "Duplicate\n"
     ]
    }
   ],
   "source": [
    "root= None\n",
    "root= insert_recr(root, 30)\n",
    "root= insert_recr(root,45)\n",
    "root= insert_recr(root,56)\n",
    "root= insert_recr(root,12)\n",
    "root= insert_recr(root,85)\n",
    "root= insert_recr(root,78)"
   ]
  },
  {
   "cell_type": "code",
   "execution_count": 28,
   "metadata": {},
   "outputs": [
    {
     "name": "stdout",
     "output_type": "stream",
     "text": [
      "12\n",
      "30\n",
      "45\n",
      "56\n",
      "78\n",
      "85\n"
     ]
    }
   ],
   "source": [
    "in_traverse(root)"
   ]
  },
  {
   "cell_type": "code",
   "execution_count": 34,
   "metadata": {},
   "outputs": [],
   "source": [
    "root= delete(root,45)"
   ]
  },
  {
   "cell_type": "code",
   "execution_count": 35,
   "metadata": {},
   "outputs": [
    {
     "name": "stdout",
     "output_type": "stream",
     "text": [
      "12\n",
      "12\n",
      "56\n",
      "78\n",
      "85\n"
     ]
    }
   ],
   "source": [
    "in_traverse(root)"
   ]
  },
  {
   "cell_type": "code",
   "execution_count": 37,
   "metadata": {},
   "outputs": [
    {
     "name": "stdout",
     "output_type": "stream",
     "text": [
      "root Not found\n"
     ]
    }
   ],
   "source": [
    "root= delete(root,12)"
   ]
  },
  {
   "cell_type": "code",
   "execution_count": 38,
   "metadata": {},
   "outputs": [
    {
     "name": "stdout",
     "output_type": "stream",
     "text": [
      "56\n",
      "12\n",
      "85\n",
      "78\n"
     ]
    }
   ],
   "source": [
    "pre_traverse(root)"
   ]
  }
 ],
 "metadata": {
  "interpreter": {
   "hash": "df96c57c84e5db49fbff7a65f65f854912c05f9edc8c4379a37af6dde7acaa39"
  },
  "kernelspec": {
   "display_name": "Python 3.9.9 64-bit (windows store)",
   "language": "python",
   "name": "python3"
  },
  "language_info": {
   "codemirror_mode": {
    "name": "ipython",
    "version": 3
   },
   "file_extension": ".py",
   "mimetype": "text/x-python",
   "name": "python",
   "nbconvert_exporter": "python",
   "pygments_lexer": "ipython3",
   "version": "3.9.9"
  },
  "orig_nbformat": 4
 },
 "nbformat": 4,
 "nbformat_minor": 2
}

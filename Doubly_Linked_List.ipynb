{
 "cells": [
  {
   "cell_type": "code",
   "execution_count": 4,
   "metadata": {},
   "outputs": [],
   "source": [
    "class Node:\n",
    "    def __init__(self,value):\n",
    "        self.value= value\n",
    "        self.ltpr= None\n",
    "        self.rtpr=None"
   ]
  },
  {
   "cell_type": "code",
   "execution_count": 5,
   "metadata": {},
   "outputs": [],
   "source": [
    "class Doubly_Linked_List():\n",
    "    def __init__(self):\n",
    "        self.head= None\n",
    "        self.tail= None\n",
    "\n",
    "    def Insert_at_frnt(self,value):\n",
    "        newNode= Node(value)\n",
    "        if self.head== None:\n",
    "            self.head= newNode\n",
    "            self.tail= newNode\n",
    "            return\n",
    "        self.head.ltpr= newNode\n",
    "        newNode.rtpr= self.head\n",
    "        self.head= newNode\n",
    "\n",
    "    def traverse(self):\n",
    "        temp= self.head\n",
    "        while temp!=None:\n",
    "            print(temp.value)\n",
    "            temp= temp.rtpr\n",
    "        return\n",
    "\n",
    "    def insert_at_End(self,value):\n",
    "        newNode= Node(value)\n",
    "        if self.head== None:\n",
    "            self.tail= newNode\n",
    "        self.tail.rtpr= newNode\n",
    "        newNode.ltpr= self.tail\n",
    "        self.tail= newNode  \n",
    "\n",
    "    def delete(self,value):\n",
    "        if self.head== None:\n",
    "            print('List Is empty')\n",
    "        elif self.head== self.tail:\n",
    "            if self.head.value== value:\n",
    "                self.head= None\n",
    "                self.tail= None\n",
    "            else:\n",
    "                print(\"None With Value\"+ str(value)+' Not found') \n",
    "\n",
    "        elif self.head.value== value:\n",
    "            self.head= self.head.rtpr\n",
    "            self.head.ltpr= None\n",
    "\n",
    "        elif self.tail.value== value:\n",
    "            self.tail= self.tail.ltpr\n",
    "            self.tail.rtpr= None\n",
    "\n",
    "        else:\n",
    "            temp= self.head\n",
    "            while temp.rtpr!= None and temp.value!= value:\n",
    "                temp= temp.rtpr\n",
    "\n",
    "            if temp.rtpr== None:\n",
    "                print('Node not found')\n",
    "            else:\n",
    "                temp.ltpr.rtpr= temp.rtpr\n",
    "                temp.rtpr.ltpr= temp.ltpr                "
   ]
  },
  {
   "cell_type": "code",
   "execution_count": 6,
   "metadata": {},
   "outputs": [],
   "source": [
    "dl= Doubly_Linked_List()"
   ]
  },
  {
   "cell_type": "code",
   "execution_count": 13,
   "metadata": {},
   "outputs": [],
   "source": [
    "dl.Insert_at_frnt(40)\n",
    "dl.insert_at_End(12)\n"
   ]
  },
  {
   "cell_type": "code",
   "execution_count": 14,
   "metadata": {},
   "outputs": [
    {
     "name": "stdout",
     "output_type": "stream",
     "text": [
      "40\n",
      "41\n",
      "12\n"
     ]
    }
   ],
   "source": [
    "dl.traverse()"
   ]
  },
  {
   "cell_type": "code",
   "execution_count": 15,
   "metadata": {},
   "outputs": [],
   "source": [
    "dl.delete(41)"
   ]
  },
  {
   "cell_type": "code",
   "execution_count": 16,
   "metadata": {},
   "outputs": [
    {
     "name": "stdout",
     "output_type": "stream",
     "text": [
      "40\n",
      "12\n"
     ]
    }
   ],
   "source": [
    "dl.traverse()"
   ]
  }
 ],
 "metadata": {
  "interpreter": {
   "hash": "df96c57c84e5db49fbff7a65f65f854912c05f9edc8c4379a37af6dde7acaa39"
  },
  "kernelspec": {
   "display_name": "Python 3.9.9 64-bit (windows store)",
   "language": "python",
   "name": "python3"
  },
  "language_info": {
   "codemirror_mode": {
    "name": "ipython",
    "version": 3
   },
   "file_extension": ".py",
   "mimetype": "text/x-python",
   "name": "python",
   "nbconvert_exporter": "python",
   "pygments_lexer": "ipython3",
   "version": "3.9.9"
  },
  "orig_nbformat": 4
 },
 "nbformat": 4,
 "nbformat_minor": 2
}

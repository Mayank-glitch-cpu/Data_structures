{
 "cells": [
  {
   "cell_type": "code",
   "execution_count": 3,
   "metadata": {},
   "outputs": [],
   "source": [
    "import numpy as np"
   ]
  },
  {
   "cell_type": "code",
   "execution_count": 29,
   "metadata": {},
   "outputs": [],
   "source": [
    "class queue():\n",
    "    def __init__(self,size):\n",
    "        self.size= size\n",
    "        self.front=-1\n",
    "        self.rear=-1\n",
    "        self.q= np.zeros([size],dtype='int')\n",
    "\n",
    "    def insert(self,value):\n",
    "        if self.rear== self.rear-1:\n",
    "            print(\"Queue is full\")\n",
    "\n",
    "        elif self.front==-1:\n",
    "            self.front==0\n",
    "        self.rear+=1    \n",
    "        self.q[self.rear]=value\n",
    "        return value\n",
    "\n",
    "    def delete(self,value):\n",
    "        if self.front== -1:\n",
    "            print('Queue is Empty')\n",
    "            return\n",
    "        value = self.q[self.front]    \n",
    "        if self.front==self.rear:\n",
    "            self.front== self.rear==-1 \n",
    "        else:\n",
    "            self.front+=1 \n",
    "        return value       \n",
    "        \n",
    "\n"
   ]
  },
  {
   "cell_type": "code",
   "execution_count": 30,
   "metadata": {},
   "outputs": [
    {
     "data": {
      "text/plain": [
       "5"
      ]
     },
     "execution_count": 30,
     "metadata": {},
     "output_type": "execute_result"
    }
   ],
   "source": [
    "q= queue(5)\n",
    "q.size"
   ]
  },
  {
   "cell_type": "code",
   "execution_count": 31,
   "metadata": {},
   "outputs": [
    {
     "name": "stdout",
     "output_type": "stream",
     "text": [
      "-1\n",
      "-1\n",
      "[0 0 0 0 0]\n"
     ]
    }
   ],
   "source": [
    "print(q.front)\n",
    "print(q.rear)\n",
    "print(q.q)"
   ]
  },
  {
   "cell_type": "code",
   "execution_count": 32,
   "metadata": {},
   "outputs": [
    {
     "name": "stdout",
     "output_type": "stream",
     "text": [
      "[4 0 0 0 0]\n",
      "-1\n",
      "0\n"
     ]
    }
   ],
   "source": [
    "q.insert(4)\n",
    "print(q.q)\n",
    "print(q.front)\n",
    "print(q.rear)"
   ]
  },
  {
   "cell_type": "code",
   "execution_count": 19,
   "metadata": {},
   "outputs": [
    {
     "name": "stdout",
     "output_type": "stream",
     "text": [
      "[ 4 12  0  0  0]\n"
     ]
    }
   ],
   "source": [
    "q.insert(12)\n",
    "print(q.q)"
   ]
  },
  {
   "cell_type": "code",
   "execution_count": 20,
   "metadata": {},
   "outputs": [
    {
     "name": "stdout",
     "output_type": "stream",
     "text": [
      "1\n",
      "-1\n"
     ]
    }
   ],
   "source": [
    "print(q.rear)\n",
    "print(q.front)"
   ]
  },
  {
   "cell_type": "code",
   "execution_count": 12,
   "metadata": {},
   "outputs": [
    {
     "name": "stdout",
     "output_type": "stream",
     "text": [
      "[10  1  4 12  2]\n"
     ]
    }
   ],
   "source": [
    "q.insert(2)\n",
    "print(q.q)"
   ]
  },
  {
   "cell_type": "code",
   "execution_count": 13,
   "metadata": {},
   "outputs": [
    {
     "name": "stdout",
     "output_type": "stream",
     "text": [
      "4\n",
      "-1\n"
     ]
    }
   ],
   "source": [
    "print(q.rear)\n",
    "print(q.front)"
   ]
  },
  {
   "cell_type": "code",
   "execution_count": 14,
   "metadata": {},
   "outputs": [
    {
     "name": "stdout",
     "output_type": "stream",
     "text": [
      "Queue is Empty\n",
      "[10  1  4 12  2]\n",
      "-1\n",
      "4\n"
     ]
    }
   ],
   "source": [
    "q.delete(12)\n",
    "print(q.q)\n",
    "print(q.front)\n",
    "print(q.rear)"
   ]
  }
 ],
 "metadata": {
  "interpreter": {
   "hash": "df96c57c84e5db49fbff7a65f65f854912c05f9edc8c4379a37af6dde7acaa39"
  },
  "kernelspec": {
   "display_name": "Python 3.9.9 64-bit (windows store)",
   "language": "python",
   "name": "python3"
  },
  "language_info": {
   "codemirror_mode": {
    "name": "ipython",
    "version": 3
   },
   "file_extension": ".py",
   "mimetype": "text/x-python",
   "name": "python",
   "nbconvert_exporter": "python",
   "pygments_lexer": "ipython3",
   "version": "3.9.9"
  },
  "orig_nbformat": 4
 },
 "nbformat": 4,
 "nbformat_minor": 2
}

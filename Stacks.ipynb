{
 "cells": [
  {
   "cell_type": "code",
   "execution_count": 29,
   "metadata": {},
   "outputs": [],
   "source": [
    "import numpy as np"
   ]
  },
  {
   "cell_type": "code",
   "execution_count": 30,
   "metadata": {},
   "outputs": [],
   "source": [
    "class stack:\n",
    "    def __init__(self,size):\n",
    "        self.size= size\n",
    "        self.stackarea= np.zeros([size],dtype='int')\n",
    "        self.tos=-1\n",
    "\n",
    "    def push(self,value):\n",
    "        if self.tos== self.size-1:\n",
    "            print('Stack overflow')\n",
    "            return\n",
    "        else:\n",
    "            self.tos+=1\n",
    "            self.stackarea[self.tos]=value\n",
    "\n",
    "    def pop(self,value):\n",
    "        if self.tos== -1:\n",
    "            print(\"Stack is empty\")\n",
    "        else:\n",
    "            value = self.stackarea[self.tos]\n",
    "            self.tos-=1\n",
    "            return value\n",
    "\n",
    "    def peep(self,k):\n",
    "        if k<0 and self.tos-k+1<0:\n",
    "            print(\"Stack is empty\")\n",
    "        else:\n",
    "            value= self.stackarea[self.tos-k+1]\n",
    "            return value\n",
    "\n",
    "    def change(self,k,n_value):\n",
    "        if k<0 and self.tos-k+1<0:\n",
    "          print(\"Stack is empty\") \n",
    "\n",
    "        else:\n",
    "            self.stackarea[self.tos-k+1]= n_value\n",
    "        return n_value                                     "
   ]
  },
  {
   "cell_type": "code",
   "execution_count": 31,
   "metadata": {},
   "outputs": [
    {
     "name": "stdout",
     "output_type": "stream",
     "text": [
      "5\n",
      "-1\n"
     ]
    },
    {
     "data": {
      "text/plain": [
       "array([0, 0, 0, 0, 0])"
      ]
     },
     "execution_count": 31,
     "metadata": {},
     "output_type": "execute_result"
    }
   ],
   "source": [
    "st= stack(5)\n",
    "print(st.size)\n",
    "print(st.tos)\n",
    "st.stackarea"
   ]
  },
  {
   "cell_type": "code",
   "execution_count": 32,
   "metadata": {},
   "outputs": [
    {
     "name": "stdout",
     "output_type": "stream",
     "text": [
      "0\n"
     ]
    },
    {
     "data": {
      "text/plain": [
       "array([10,  0,  0,  0,  0])"
      ]
     },
     "execution_count": 32,
     "metadata": {},
     "output_type": "execute_result"
    }
   ],
   "source": [
    "st.push(10)\n",
    "print(st.tos)\n",
    "st.stackarea"
   ]
  },
  {
   "cell_type": "code",
   "execution_count": 33,
   "metadata": {},
   "outputs": [
    {
     "name": "stdout",
     "output_type": "stream",
     "text": [
      "1\n"
     ]
    },
    {
     "data": {
      "text/plain": [
       "array([10, 12,  0,  0,  0])"
      ]
     },
     "execution_count": 33,
     "metadata": {},
     "output_type": "execute_result"
    }
   ],
   "source": [
    "st.push(12)\n",
    "print(st.tos)\n",
    "st.stackarea"
   ]
  },
  {
   "cell_type": "code",
   "execution_count": 34,
   "metadata": {},
   "outputs": [
    {
     "name": "stdout",
     "output_type": "stream",
     "text": [
      "2\n"
     ]
    },
    {
     "data": {
      "text/plain": [
       "array([10, 12, 14,  0,  0])"
      ]
     },
     "execution_count": 34,
     "metadata": {},
     "output_type": "execute_result"
    }
   ],
   "source": [
    "st.push(14)\n",
    "print(st.tos)\n",
    "st.stackarea"
   ]
  },
  {
   "cell_type": "code",
   "execution_count": 35,
   "metadata": {},
   "outputs": [
    {
     "name": "stdout",
     "output_type": "stream",
     "text": [
      "3\n",
      "4\n",
      "Stack overflow\n",
      "4\n"
     ]
    },
    {
     "data": {
      "text/plain": [
       "array([10, 12, 14, 16, 18])"
      ]
     },
     "execution_count": 35,
     "metadata": {},
     "output_type": "execute_result"
    }
   ],
   "source": [
    "st.push(16)\n",
    "print(st.tos)\n",
    "st.stackarea\n",
    "\n",
    "st.push(18)\n",
    "print(st.tos)\n",
    "st.stackarea\n",
    "\n",
    "st.push(20)\n",
    "print(st.tos)\n",
    "st.stackarea"
   ]
  },
  {
   "cell_type": "code",
   "execution_count": 36,
   "metadata": {},
   "outputs": [
    {
     "name": "stdout",
     "output_type": "stream",
     "text": [
      "3\n"
     ]
    },
    {
     "data": {
      "text/plain": [
       "array([10, 12, 14, 16, 18])"
      ]
     },
     "execution_count": 36,
     "metadata": {},
     "output_type": "execute_result"
    }
   ],
   "source": [
    "st.pop(10)\n",
    "\n",
    "print(st.tos)\n",
    "st.stackarea"
   ]
  },
  {
   "cell_type": "code",
   "execution_count": 37,
   "metadata": {},
   "outputs": [
    {
     "data": {
      "text/plain": [
       "14"
      ]
     },
     "execution_count": 37,
     "metadata": {},
     "output_type": "execute_result"
    }
   ],
   "source": [
    "st.peep(2)"
   ]
  },
  {
   "cell_type": "code",
   "execution_count": 38,
   "metadata": {},
   "outputs": [
    {
     "data": {
      "text/plain": [
       "array([10, 12, 15, 16, 18])"
      ]
     },
     "execution_count": 38,
     "metadata": {},
     "output_type": "execute_result"
    }
   ],
   "source": [
    "st.change(2,15)\n",
    "st.stackarea"
   ]
  },
  {
   "cell_type": "code",
   "execution_count": 62,
   "metadata": {},
   "outputs": [],
   "source": [
    "class stack:\n",
    "    def __init__(self,size):\n",
    "        self.size= size\n",
    "        self.stackarea= np.zeros([size],dtype='int')\n",
    "        self.tos=-1\n",
    "\n",
    "    def push(self,value):\n",
    "        if self.tos== self.size-1:\n",
    "            temp= np.zeros([2*self.size],dtype='int')\n",
    "            for i in range(self.size):\n",
    "                temp[i]= self.stackarea[i]\n",
    "            self.stackarea= temp\n",
    "            self.size= 2*self.size  \n",
    "        self.tos+=1 \n",
    "        self.stackarea[self.tos]=value     \n",
    "        return value\n",
    "        \n",
    "\n",
    "    def pop(self,value):\n",
    "        if self.tos== -1:\n",
    "            print(\"Stack is empty\")\n",
    "        else:\n",
    "            value = self.stackarea[self.tos]\n",
    "            self.tos-=1\n",
    "\n",
    "            if self.tos<self.size/2:\n",
    "              temp= np.zeros([self.size/2],dtype='int')\n",
    "              for i in range(self.size+1):\n",
    "                temp[i]= self.stackarea[i]\n",
    "              self.stackarea= temp\n",
    "              self.size= int(self.size/2)     \n",
    "            return value\n",
    "\n",
    "    def peep(self,k):\n",
    "        if k<0 and self.tos-k+1<0:\n",
    "            print(\"Stack is empty\")\n",
    "        else:\n",
    "            value= self.stackarea[self.tos-k+1]\n",
    "            return value\n",
    "\n",
    "    def change(self,k,n_value):\n",
    "        if k<0 and self.tos-k+1<0:\n",
    "          print(\"Stack is empty\") \n",
    "\n",
    "        else:\n",
    "            self.stackarea[self.tos-k+1]= n_value\n",
    "        return n_value                                     "
   ]
  },
  {
   "cell_type": "code",
   "execution_count": 50,
   "metadata": {},
   "outputs": [],
   "source": [
    "st1=stack(5)\n"
   ]
  },
  {
   "cell_type": "code",
   "execution_count": 51,
   "metadata": {},
   "outputs": [
    {
     "data": {
      "text/plain": [
       "5"
      ]
     },
     "execution_count": 51,
     "metadata": {},
     "output_type": "execute_result"
    }
   ],
   "source": [
    "st1.size"
   ]
  },
  {
   "cell_type": "code",
   "execution_count": 57,
   "metadata": {},
   "outputs": [
    {
     "data": {
      "text/plain": [
       "array([12, 24, 36, 48, 60, 72,  0,  0,  0,  0])"
      ]
     },
     "execution_count": 57,
     "metadata": {},
     "output_type": "execute_result"
    }
   ],
   "source": [
    "st1.push(72)\n",
    "\n",
    "st1.stackarea"
   ]
  },
  {
   "cell_type": "code",
   "execution_count": 64,
   "metadata": {},
   "outputs": [
    {
     "ename": "TypeError",
     "evalue": "'float' object cannot be interpreted as an integer",
     "output_type": "error",
     "traceback": [
      "\u001b[1;31m---------------------------------------------------------------------------\u001b[0m",
      "\u001b[1;31mTypeError\u001b[0m                                 Traceback (most recent call last)",
      "\u001b[1;32m~\\AppData\\Local\\Temp/ipykernel_1788/3883764232.py\u001b[0m in \u001b[0;36m<module>\u001b[1;34m\u001b[0m\n\u001b[1;32m----> 1\u001b[1;33m \u001b[0mst1\u001b[0m\u001b[1;33m.\u001b[0m\u001b[0mpop\u001b[0m\u001b[1;33m(\u001b[0m\u001b[1;36m72\u001b[0m\u001b[1;33m)\u001b[0m\u001b[1;33m\u001b[0m\u001b[1;33m\u001b[0m\u001b[0m\n\u001b[0m\u001b[0;32m      2\u001b[0m \u001b[0mst1\u001b[0m\u001b[1;33m.\u001b[0m\u001b[0mstackarea\u001b[0m\u001b[1;33m\u001b[0m\u001b[1;33m\u001b[0m\u001b[0m\n",
      "\u001b[1;32m~\\AppData\\Local\\Temp/ipykernel_1788/2941165720.py\u001b[0m in \u001b[0;36mpop\u001b[1;34m(self, value)\u001b[0m\n\u001b[0;32m     25\u001b[0m \u001b[1;33m\u001b[0m\u001b[0m\n\u001b[0;32m     26\u001b[0m             \u001b[1;32mif\u001b[0m \u001b[0mself\u001b[0m\u001b[1;33m.\u001b[0m\u001b[0mtos\u001b[0m\u001b[1;33m<\u001b[0m\u001b[0mself\u001b[0m\u001b[1;33m.\u001b[0m\u001b[0msize\u001b[0m\u001b[1;33m/\u001b[0m\u001b[1;36m2\u001b[0m\u001b[1;33m:\u001b[0m\u001b[1;33m\u001b[0m\u001b[1;33m\u001b[0m\u001b[0m\n\u001b[1;32m---> 27\u001b[1;33m               \u001b[0mtemp\u001b[0m\u001b[1;33m=\u001b[0m \u001b[0mnp\u001b[0m\u001b[1;33m.\u001b[0m\u001b[0mzeros\u001b[0m\u001b[1;33m(\u001b[0m\u001b[1;33m[\u001b[0m\u001b[0mself\u001b[0m\u001b[1;33m.\u001b[0m\u001b[0msize\u001b[0m\u001b[1;33m/\u001b[0m\u001b[1;36m2\u001b[0m\u001b[1;33m]\u001b[0m\u001b[1;33m,\u001b[0m\u001b[0mdtype\u001b[0m\u001b[1;33m=\u001b[0m\u001b[1;34m'int'\u001b[0m\u001b[1;33m)\u001b[0m\u001b[1;33m\u001b[0m\u001b[1;33m\u001b[0m\u001b[0m\n\u001b[0m\u001b[0;32m     28\u001b[0m               \u001b[1;32mfor\u001b[0m \u001b[0mi\u001b[0m \u001b[1;32min\u001b[0m \u001b[0mrange\u001b[0m\u001b[1;33m(\u001b[0m\u001b[0mself\u001b[0m\u001b[1;33m.\u001b[0m\u001b[0msize\u001b[0m\u001b[1;33m+\u001b[0m\u001b[1;36m1\u001b[0m\u001b[1;33m)\u001b[0m\u001b[1;33m:\u001b[0m\u001b[1;33m\u001b[0m\u001b[1;33m\u001b[0m\u001b[0m\n\u001b[0;32m     29\u001b[0m                 \u001b[0mtemp\u001b[0m\u001b[1;33m[\u001b[0m\u001b[0mi\u001b[0m\u001b[1;33m]\u001b[0m\u001b[1;33m=\u001b[0m \u001b[0mself\u001b[0m\u001b[1;33m.\u001b[0m\u001b[0mstackarea\u001b[0m\u001b[1;33m[\u001b[0m\u001b[0mi\u001b[0m\u001b[1;33m]\u001b[0m\u001b[1;33m\u001b[0m\u001b[1;33m\u001b[0m\u001b[0m\n",
      "\u001b[1;31mTypeError\u001b[0m: 'float' object cannot be interpreted as an integer"
     ]
    }
   ],
   "source": [
    "st1.pop(72)\n",
    "st1.stackarea"
   ]
  }
 ],
 "metadata": {
  "interpreter": {
   "hash": "df96c57c84e5db49fbff7a65f65f854912c05f9edc8c4379a37af6dde7acaa39"
  },
  "kernelspec": {
   "display_name": "Python 3.9.9 64-bit (windows store)",
   "language": "python",
   "name": "python3"
  },
  "language_info": {
   "codemirror_mode": {
    "name": "ipython",
    "version": 3
   },
   "file_extension": ".py",
   "mimetype": "text/x-python",
   "name": "python",
   "nbconvert_exporter": "python",
   "pygments_lexer": "ipython3",
   "version": "3.9.9"
  },
  "orig_nbformat": 4
 },
 "nbformat": 4,
 "nbformat_minor": 2
}
